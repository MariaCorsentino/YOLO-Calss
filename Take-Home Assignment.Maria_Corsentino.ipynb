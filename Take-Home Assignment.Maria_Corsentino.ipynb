{
  "cells": [
    {
      "cell_type": "markdown",
      "metadata": {
        "id": "view-in-github",
        "colab_type": "text"
      },
      "source": [
        "<a href=\"https://colab.research.google.com/github/MariaCorsentino/YOLO-Calss/blob/main/Take-Home%20Assignment.Maria_Corsentino.ipynb\" target=\"_parent\"><img src=\"https://colab.research.google.com/assets/colab-badge.svg\" alt=\"Open In Colab\"/></a>"
      ]
    },
    {
      "cell_type": "code",
      "execution_count": null,
      "id": "57e60b62-46c6-43b1-b03d-0b25cf8e1e2c",
      "metadata": {
        "id": "57e60b62-46c6-43b1-b03d-0b25cf8e1e2c"
      },
      "outputs": [],
      "source": [
        "#MSBA 503 Take-Home Assignment\n",
        "\n",
        "#This assignment requires more effort than the in-class assignments. You may seek help from\n",
        "#your peer(s) for the review purpose. If you do that, mention it in an acknowledgment section. It\n",
        "#will not impact your grade. However, you cannot submit others’ work or work jointly with\n",
        "#someone. This assignment has two parts. Your final deliverable will be a Word document. See\n",
        "#below for more instructions.\n",
        "\n",
        "#Part A\n",
        "\n",
        "#(i) Use two or more deep learning algorithms from the computer vision area to extract\n",
        "#objects from a series of images and compare their performance in terms of time,\n",
        "#objects detected, and probabilities. You can choose 5 or 10 images of your own and\n",
        "#record these outputs for each of them. In the end, those outcomes will be presented\n",
        "#in a tabular format. 10 points\n",
        "\n",
        "#(ii) Can you extract anything else from these images with or without using deep learning\n",
        "#algorithms? 4 points\n",
        "#Your Word document will have the comparison table and your comments on it. Do not write\n",
        "#more than 2-3 sentences. Also, describe (ii) in the Word document with similar sentence\n",
        "#limitations regarding what you did and the outcomes.\n",
        "\n",
        "#Part B\n",
        "\n",
        "#Upload the code to GitHub, create a nice Read Me file, and attach the link to the Word\n",
        "#document. Make sure the code in GitHub is well-commented. You do not need to upload the\n",
        "#images on GitHub. The coding file should have the code and outputs printed. 6 points\n"
      ]
    },
    {
      "cell_type": "code",
      "source": [
        "import torch\n",
        "import cv2\n",
        "import time\n",
        "import pandas as pd\n",
        "from PIL import Image\n",
        "\n",
        "# Load YOLOv5 model\n",
        "yolo_model = torch.hub.load('ultralytics/yolov5', 'yolov5s')  # YOLOv5 small model\n",
        "\n",
        "# Paths to uploaded images\n",
        "image_paths = [\n",
        "    '/mnt/data/dumbledore.jpeg',\n",
        "    '/mnt/data/WizardsChess.jpeg',\n",
        "    '/mnt/data/Pr. Snape.jpeg',\n",
        "    '/mnt/data/Ron\\'s family.jpeg',\n",
        "    '/mnt/data/Harry Potter Christmas Tree.jpeg'\n",
        "]\n",
        "\n",
        "# Store results\n",
        "results_yolo = []\n",
        "\n",
        "# Perform object detection with YOLOv5\n",
        "for image_path in image_paths:\n",
        "    # Load image\n",
        "    image = Image.open(image_path)\n",
        "\n",
        "    # Start timer\n",
        "    start_time = time.time()\n",
        "\n",
        "    # Perform detection\n",
        "    results = yolo_model(image)\n",
        "\n",
        "    # End timer\n",
        "    end_time = time.time()\n",
        "\n",
        "    # Parse results\n",
        "    detections = results.pandas().xyxy[0]  # Pandas DataFrame of results\n",
        "    num_objects = len(detections)\n",
        "    confidences = detections['confidence'].tolist()\n",
        "\n",
        "    # Append to results\n",
        "    results_yolo.append({\n",
        "        'image': image_path.split('/')[-1],\n",
        "        'num_objects': num_objects,\n",
        "        'confidences': confidences,\n",
        "        'detection_time': end_time - start_time\n",
        "    })\n",
        "\n",
        "# Convert results to DataFrame\n",
        "results_yolo_df = pd.DataFrame(results_yolo)\n",
        "\n",
        "# Display YOLOv5 results\n",
        "def display_results():\n",
        "    import ace_tools as tools  # Custom display tool for the user\n",
        "    tools.display_dataframe_to_user(name=\"YOLOv5 Object Detection Results\", dataframe=results_yolo_df)\n",
        "\n",
        "display_results()\n"
      ],
      "metadata": {
        "id": "3EpG-V9Qvnk_",
        "outputId": "0e2db19b-3b1d-42c0-9d6d-2df1c919f3b4",
        "colab": {
          "base_uri": "https://localhost:8080/",
          "height": 428
        }
      },
      "id": "3EpG-V9Qvnk_",
      "execution_count": 3,
      "outputs": [
        {
          "output_type": "stream",
          "name": "stderr",
          "text": [
            "Using cache found in /root/.cache/torch/hub/ultralytics_yolov5_master\n",
            "YOLOv5 🚀 2024-12-7 Python-3.10.12 torch-2.5.1+cu121 CPU\n",
            "\n",
            "Fusing layers... \n",
            "YOLOv5s summary: 213 layers, 7225885 parameters, 0 gradients, 16.4 GFLOPs\n",
            "Adding AutoShape... \n"
          ]
        },
        {
          "output_type": "error",
          "ename": "FileNotFoundError",
          "evalue": "[Errno 2] No such file or directory: '/mnt/data/dumbledore.jpeg'",
          "traceback": [
            "\u001b[0;31m---------------------------------------------------------------------------\u001b[0m",
            "\u001b[0;31mFileNotFoundError\u001b[0m                         Traceback (most recent call last)",
            "\u001b[0;32m<ipython-input-3-e4aff23183f1>\u001b[0m in \u001b[0;36m<cell line: 23>\u001b[0;34m()\u001b[0m\n\u001b[1;32m     23\u001b[0m \u001b[0;32mfor\u001b[0m \u001b[0mimage_path\u001b[0m \u001b[0;32min\u001b[0m \u001b[0mimage_paths\u001b[0m\u001b[0;34m:\u001b[0m\u001b[0;34m\u001b[0m\u001b[0;34m\u001b[0m\u001b[0m\n\u001b[1;32m     24\u001b[0m     \u001b[0;31m# Load image\u001b[0m\u001b[0;34m\u001b[0m\u001b[0;34m\u001b[0m\u001b[0m\n\u001b[0;32m---> 25\u001b[0;31m     \u001b[0mimage\u001b[0m \u001b[0;34m=\u001b[0m \u001b[0mImage\u001b[0m\u001b[0;34m.\u001b[0m\u001b[0mopen\u001b[0m\u001b[0;34m(\u001b[0m\u001b[0mimage_path\u001b[0m\u001b[0;34m)\u001b[0m\u001b[0;34m\u001b[0m\u001b[0;34m\u001b[0m\u001b[0m\n\u001b[0m\u001b[1;32m     26\u001b[0m \u001b[0;34m\u001b[0m\u001b[0m\n\u001b[1;32m     27\u001b[0m     \u001b[0;31m# Start timer\u001b[0m\u001b[0;34m\u001b[0m\u001b[0;34m\u001b[0m\u001b[0m\n",
            "\u001b[0;32m/usr/local/lib/python3.10/dist-packages/PIL/Image.py\u001b[0m in \u001b[0;36mopen\u001b[0;34m(fp, mode, formats)\u001b[0m\n\u001b[1;32m   3467\u001b[0m \u001b[0;34m\u001b[0m\u001b[0m\n\u001b[1;32m   3468\u001b[0m     \u001b[0;32mif\u001b[0m \u001b[0mfilename\u001b[0m\u001b[0;34m:\u001b[0m\u001b[0;34m\u001b[0m\u001b[0;34m\u001b[0m\u001b[0m\n\u001b[0;32m-> 3469\u001b[0;31m         \u001b[0mfp\u001b[0m \u001b[0;34m=\u001b[0m \u001b[0mbuiltins\u001b[0m\u001b[0;34m.\u001b[0m\u001b[0mopen\u001b[0m\u001b[0;34m(\u001b[0m\u001b[0mfilename\u001b[0m\u001b[0;34m,\u001b[0m \u001b[0;34m\"rb\"\u001b[0m\u001b[0;34m)\u001b[0m\u001b[0;34m\u001b[0m\u001b[0;34m\u001b[0m\u001b[0m\n\u001b[0m\u001b[1;32m   3470\u001b[0m         \u001b[0mexclusive_fp\u001b[0m \u001b[0;34m=\u001b[0m \u001b[0;32mTrue\u001b[0m\u001b[0;34m\u001b[0m\u001b[0;34m\u001b[0m\u001b[0m\n\u001b[1;32m   3471\u001b[0m     \u001b[0;32melse\u001b[0m\u001b[0;34m:\u001b[0m\u001b[0;34m\u001b[0m\u001b[0;34m\u001b[0m\u001b[0m\n",
            "\u001b[0;31mFileNotFoundError\u001b[0m: [Errno 2] No such file or directory: '/mnt/data/dumbledore.jpeg'"
          ]
        }
      ]
    }
  ],
  "metadata": {
    "kernelspec": {
      "display_name": "Python 3 (ipykernel)",
      "language": "python",
      "name": "python3"
    },
    "language_info": {
      "codemirror_mode": {
        "name": "ipython",
        "version": 3
      },
      "file_extension": ".py",
      "mimetype": "text/x-python",
      "name": "python",
      "nbconvert_exporter": "python",
      "pygments_lexer": "ipython3",
      "version": "3.11.7"
    },
    "colab": {
      "provenance": [],
      "include_colab_link": true
    }
  },
  "nbformat": 4,
  "nbformat_minor": 5
}