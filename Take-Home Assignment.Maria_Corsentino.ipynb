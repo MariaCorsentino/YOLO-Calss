{
 "cells": [
  {
   "cell_type": "code",
   "execution_count": null,
   "id": "57e60b62-46c6-43b1-b03d-0b25cf8e1e2c",
   "metadata": {},
   "outputs": [],
   "source": [
    "#MSBA 503 Take-Home Assignment\n",
    "\n",
    "#This assignment requires more effort than the in-class assignments. You may seek help from\n",
    "#your peer(s) for the review purpose. If you do that, mention it in an acknowledgment section. It\n",
    "#will not impact your grade. However, you cannot submit others’ work or work jointly with\n",
    "#someone. This assignment has two parts. Your final deliverable will be a Word document. See\n",
    "#below for more instructions.\n",
    "\n",
    "#Part A\n",
    "\n",
    "#(i) Use two or more deep learning algorithms from the computer vision area to extract\n",
    "#objects from a series of images and compare their performance in terms of time,\n",
    "#objects detected, and probabilities. You can choose 5 or 10 images of your own and\n",
    "#record these outputs for each of them. In the end, those outcomes will be presented\n",
    "#in a tabular format. 10 points\n",
    "\n",
    "#(ii) Can you extract anything else from these images with or without using deep learning\n",
    "#algorithms? 4 points\n",
    "#Your Word document will have the comparison table and your comments on it. Do not write\n",
    "#more than 2-3 sentences. Also, describe (ii) in the Word document with similar sentence\n",
    "#limitations regarding what you did and the outcomes.\n",
    "\n",
    "#Part B\n",
    "\n",
    "#Upload the code to GitHub, create a nice Read Me file, and attach the link to the Word\n",
    "#document. Make sure the code in GitHub is well-commented. You do not need to upload the\n",
    "#images on GitHub. The coding file should have the code and outputs printed. 6 points\n"
   ]
  }
 ],
 "metadata": {
  "kernelspec": {
   "display_name": "Python 3 (ipykernel)",
   "language": "python",
   "name": "python3"
  },
  "language_info": {
   "codemirror_mode": {
    "name": "ipython",
    "version": 3
   },
   "file_extension": ".py",
   "mimetype": "text/x-python",
   "name": "python",
   "nbconvert_exporter": "python",
   "pygments_lexer": "ipython3",
   "version": "3.11.7"
  }
 },
 "nbformat": 4,
 "nbformat_minor": 5
}
